{
 "cells": [
  {
   "cell_type": "markdown",
   "metadata": {},
   "source": [
    "# Paytm Challenge - Weblog Challenge"
   ]
  },
  {
   "cell_type": "markdown",
   "metadata": {},
   "source": [
    "## Part-1"
   ]
  },
  {
   "cell_type": "code",
   "execution_count": 1,
   "metadata": {},
   "outputs": [],
   "source": [
    "%matplotlib inline\n",
    "%reload_ext autoreload\n",
    "%autoreload 2\n",
    "# Auto reload custom modules"
   ]
  },
  {
   "cell_type": "code",
   "execution_count": 2,
   "metadata": {},
   "outputs": [],
   "source": [
    "from pathlib import Path\n",
    "from datetime import timedelta\n",
    "\n",
    "import pandas as pd\n",
    "import numpy as np\n",
    "\n",
    "from WebLog import Reader\n",
    "\n",
    "import matplotlib.pyplot as plt\n",
    "plt.style.use(\"dark_background\")\n",
    "\n",
    "from sklearn.model_selection import train_test_split\n",
    "from sklearn.ensemble import RandomForestRegressor\n",
    "from sklearn.metrics import mean_squared_error"
   ]
  },
  {
   "cell_type": "code",
   "execution_count": 3,
   "metadata": {},
   "outputs": [],
   "source": [
    "PATH = Path(\"../data/\")\n",
    "OUTPUT_PATH = Path(\"../output/\")\n",
    "OUTPUT_PATH.mkdir(exist_ok=True)\n",
    "\n",
    "nrows=None\n",
    "# nrows=100000"
   ]
  },
  {
   "cell_type": "code",
   "execution_count": 4,
   "metadata": {},
   "outputs": [
    {
     "name": "stderr",
     "output_type": "stream",
     "text": [
      "1158500it [00:07, 156162.70it/s]\n"
     ]
    },
    {
     "name": "stdout",
     "output_type": "stream",
     "text": [
      "Could not read 22 rows: Bad format\n",
      "Data is of shape: (1158478, 15)\n"
     ]
    }
   ],
   "source": [
    "log_regex_pattern = r'(\\S+) (\\S+) (\\S+) (\\S+) (\\S+) (\\S+) (\\S+) (\\S+) (\\S+) (\\S+) (\\S+) \"([^\"]+)\" \"([^\"]*)\" (\\S+) (\\S+)'\n",
    "\n",
    "log_columns = (\"timestamp elb client:port backend:port request_processing_time \\\n",
    "                backend_processing_time response_processing_time elb_status_code \\\n",
    "                backend_status_code received_bytes sent_bytes request user_agent ssl_cipher ssl_protocol\".split())\n",
    "\n",
    "data = Reader.read(PATH/\"2015_07_22_mktplace_shop_web_log_sample.log\",\n",
    "                   log_regex_pattern, log_columns, nrows=nrows, verbose=True)"
   ]
  },
  {
   "cell_type": "code",
   "execution_count": 5,
   "metadata": {},
   "outputs": [],
   "source": [
    "data[\"timestamp\"] = pd.to_datetime(data[\"timestamp\"], format=\"%Y-%m-%dT%H:%M:%S.%fZ\")\n",
    "data[\"client_ip\"] = data[\"client:port\"].str.split(\":\", expand=True)[0]\n",
    "data[\"url\"] = data[\"request\"].str.split(\" \", expand=True)[1]\n",
    "data = data.sort_values(['client_ip', 'timestamp']).reset_index(drop=True)"
   ]
  },
  {
   "cell_type": "markdown",
   "metadata": {},
   "source": [
    "### 1. Sessionize the web log by IP. Sessionize = aggregrate all page hits by visitor/IP during a session."
   ]
  },
  {
   "cell_type": "code",
   "execution_count": 6,
   "metadata": {},
   "outputs": [
    {
     "data": {
      "text/html": [
       "<div>\n",
       "<style scoped>\n",
       "    .dataframe tbody tr th:only-of-type {\n",
       "        vertical-align: middle;\n",
       "    }\n",
       "\n",
       "    .dataframe tbody tr th {\n",
       "        vertical-align: top;\n",
       "    }\n",
       "\n",
       "    .dataframe thead th {\n",
       "        text-align: right;\n",
       "    }\n",
       "</style>\n",
       "<table border=\"1\" class=\"dataframe\">\n",
       "  <thead>\n",
       "    <tr style=\"text-align: right;\">\n",
       "      <th></th>\n",
       "      <th>timestamp</th>\n",
       "      <th>elb</th>\n",
       "      <th>client:port</th>\n",
       "      <th>client_ip</th>\n",
       "      <th>session</th>\n",
       "      <th>session_id</th>\n",
       "      <th>backend:port</th>\n",
       "      <th>request_processing_time</th>\n",
       "      <th>backend_processing_time</th>\n",
       "      <th>response_processing_time</th>\n",
       "      <th>elb_status_code</th>\n",
       "      <th>backend_status_code</th>\n",
       "      <th>received_bytes</th>\n",
       "      <th>sent_bytes</th>\n",
       "      <th>request</th>\n",
       "      <th>url</th>\n",
       "      <th>user_agent</th>\n",
       "      <th>ssl_cipher</th>\n",
       "      <th>ssl_protocol</th>\n",
       "    </tr>\n",
       "  </thead>\n",
       "  <tbody>\n",
       "    <tr>\n",
       "      <th>0</th>\n",
       "      <td>2015-07-22 10:45:55.881199</td>\n",
       "      <td>marketpalce-shop</td>\n",
       "      <td>1.186.101.79:50614</td>\n",
       "      <td>1.186.101.79</td>\n",
       "      <td>0</td>\n",
       "      <td>1.186.101.79_0</td>\n",
       "      <td>10.0.6.99:80</td>\n",
       "      <td>0.000026</td>\n",
       "      <td>0.077996</td>\n",
       "      <td>0.000019</td>\n",
       "      <td>200</td>\n",
       "      <td>200</td>\n",
       "      <td>0</td>\n",
       "      <td>215</td>\n",
       "      <td>GET https://paytm.com:443/shop/wallet/balance?...</td>\n",
       "      <td>https://paytm.com:443/shop/wallet/balance?chan...</td>\n",
       "      <td>Mozilla/5.0 (Windows NT 6.3; WOW64; rv:39.0) G...</td>\n",
       "      <td>ECDHE-RSA-AES128-GCM-SHA256</td>\n",
       "      <td>TLSv1.2</td>\n",
       "    </tr>\n",
       "    <tr>\n",
       "      <th>1</th>\n",
       "      <td>2015-07-22 10:45:55.885488</td>\n",
       "      <td>marketpalce-shop</td>\n",
       "      <td>1.186.101.79:50613</td>\n",
       "      <td>1.186.101.79</td>\n",
       "      <td>0</td>\n",
       "      <td>1.186.101.79_0</td>\n",
       "      <td>10.0.6.199:80</td>\n",
       "      <td>0.000024</td>\n",
       "      <td>0.114374</td>\n",
       "      <td>0.00002</td>\n",
       "      <td>200</td>\n",
       "      <td>200</td>\n",
       "      <td>0</td>\n",
       "      <td>1375</td>\n",
       "      <td>GET https://paytm.com:443/shop/wallet/txnhisto...</td>\n",
       "      <td>https://paytm.com:443/shop/wallet/txnhistory?p...</td>\n",
       "      <td>Mozilla/5.0 (Windows NT 6.3; WOW64; rv:39.0) G...</td>\n",
       "      <td>ECDHE-RSA-AES128-GCM-SHA256</td>\n",
       "      <td>TLSv1.2</td>\n",
       "    </tr>\n",
       "    <tr>\n",
       "      <th>2</th>\n",
       "      <td>2015-07-22 10:46:27.839734</td>\n",
       "      <td>marketpalce-shop</td>\n",
       "      <td>1.186.101.79:50613</td>\n",
       "      <td>1.186.101.79</td>\n",
       "      <td>0</td>\n",
       "      <td>1.186.101.79_0</td>\n",
       "      <td>10.0.4.217:80</td>\n",
       "      <td>0.000024</td>\n",
       "      <td>0.027232</td>\n",
       "      <td>0.000023</td>\n",
       "      <td>302</td>\n",
       "      <td>302</td>\n",
       "      <td>0</td>\n",
       "      <td>17</td>\n",
       "      <td>GET https://paytm.com:443/shop/v1/frequentorde...</td>\n",
       "      <td>https://paytm.com:443/shop/v1/frequentorders?c...</td>\n",
       "      <td>Mozilla/5.0 (Windows NT 6.3; WOW64; rv:39.0) G...</td>\n",
       "      <td>ECDHE-RSA-AES128-GCM-SHA256</td>\n",
       "      <td>TLSv1.2</td>\n",
       "    </tr>\n",
       "    <tr>\n",
       "      <th>3</th>\n",
       "      <td>2015-07-22 10:46:56.591943</td>\n",
       "      <td>marketpalce-shop</td>\n",
       "      <td>1.186.101.79:50613</td>\n",
       "      <td>1.186.101.79</td>\n",
       "      <td>0</td>\n",
       "      <td>1.186.101.79_0</td>\n",
       "      <td>10.0.6.199:80</td>\n",
       "      <td>0.000024</td>\n",
       "      <td>0.028501</td>\n",
       "      <td>0.00002</td>\n",
       "      <td>200</td>\n",
       "      <td>200</td>\n",
       "      <td>105</td>\n",
       "      <td>700</td>\n",
       "      <td>POST https://paytm.com:443/papi/v1/expresscart...</td>\n",
       "      <td>https://paytm.com:443/papi/v1/expresscart/verify</td>\n",
       "      <td>Mozilla/5.0 (Windows NT 6.3; WOW64; rv:39.0) G...</td>\n",
       "      <td>ECDHE-RSA-AES128-GCM-SHA256</td>\n",
       "      <td>TLSv1.2</td>\n",
       "    </tr>\n",
       "    <tr>\n",
       "      <th>4</th>\n",
       "      <td>2015-07-22 10:47:01.782695</td>\n",
       "      <td>marketpalce-shop</td>\n",
       "      <td>1.186.101.79:50613</td>\n",
       "      <td>1.186.101.79</td>\n",
       "      <td>0</td>\n",
       "      <td>1.186.101.79_0</td>\n",
       "      <td>10.0.4.225:80</td>\n",
       "      <td>0.000025</td>\n",
       "      <td>0.085386</td>\n",
       "      <td>0.000025</td>\n",
       "      <td>200</td>\n",
       "      <td>200</td>\n",
       "      <td>1102</td>\n",
       "      <td>528</td>\n",
       "      <td>POST https://paytm.com:443/api/v1/expresscart/...</td>\n",
       "      <td>https://paytm.com:443/api/v1/expresscart/check...</td>\n",
       "      <td>Mozilla/5.0 (Windows NT 6.3; WOW64; rv:39.0) G...</td>\n",
       "      <td>ECDHE-RSA-AES128-GCM-SHA256</td>\n",
       "      <td>TLSv1.2</td>\n",
       "    </tr>\n",
       "  </tbody>\n",
       "</table>\n",
       "</div>"
      ],
      "text/plain": [
       "                   timestamp               elb         client:port  \\\n",
       "0 2015-07-22 10:45:55.881199  marketpalce-shop  1.186.101.79:50614   \n",
       "1 2015-07-22 10:45:55.885488  marketpalce-shop  1.186.101.79:50613   \n",
       "2 2015-07-22 10:46:27.839734  marketpalce-shop  1.186.101.79:50613   \n",
       "3 2015-07-22 10:46:56.591943  marketpalce-shop  1.186.101.79:50613   \n",
       "4 2015-07-22 10:47:01.782695  marketpalce-shop  1.186.101.79:50613   \n",
       "\n",
       "      client_ip  session      session_id   backend:port  \\\n",
       "0  1.186.101.79        0  1.186.101.79_0   10.0.6.99:80   \n",
       "1  1.186.101.79        0  1.186.101.79_0  10.0.6.199:80   \n",
       "2  1.186.101.79        0  1.186.101.79_0  10.0.4.217:80   \n",
       "3  1.186.101.79        0  1.186.101.79_0  10.0.6.199:80   \n",
       "4  1.186.101.79        0  1.186.101.79_0  10.0.4.225:80   \n",
       "\n",
       "  request_processing_time backend_processing_time response_processing_time  \\\n",
       "0                0.000026                0.077996                 0.000019   \n",
       "1                0.000024                0.114374                  0.00002   \n",
       "2                0.000024                0.027232                 0.000023   \n",
       "3                0.000024                0.028501                  0.00002   \n",
       "4                0.000025                0.085386                 0.000025   \n",
       "\n",
       "  elb_status_code backend_status_code received_bytes sent_bytes  \\\n",
       "0             200                 200              0        215   \n",
       "1             200                 200              0       1375   \n",
       "2             302                 302              0         17   \n",
       "3             200                 200            105        700   \n",
       "4             200                 200           1102        528   \n",
       "\n",
       "                                             request  \\\n",
       "0  GET https://paytm.com:443/shop/wallet/balance?...   \n",
       "1  GET https://paytm.com:443/shop/wallet/txnhisto...   \n",
       "2  GET https://paytm.com:443/shop/v1/frequentorde...   \n",
       "3  POST https://paytm.com:443/papi/v1/expresscart...   \n",
       "4  POST https://paytm.com:443/api/v1/expresscart/...   \n",
       "\n",
       "                                                 url  \\\n",
       "0  https://paytm.com:443/shop/wallet/balance?chan...   \n",
       "1  https://paytm.com:443/shop/wallet/txnhistory?p...   \n",
       "2  https://paytm.com:443/shop/v1/frequentorders?c...   \n",
       "3   https://paytm.com:443/papi/v1/expresscart/verify   \n",
       "4  https://paytm.com:443/api/v1/expresscart/check...   \n",
       "\n",
       "                                          user_agent  \\\n",
       "0  Mozilla/5.0 (Windows NT 6.3; WOW64; rv:39.0) G...   \n",
       "1  Mozilla/5.0 (Windows NT 6.3; WOW64; rv:39.0) G...   \n",
       "2  Mozilla/5.0 (Windows NT 6.3; WOW64; rv:39.0) G...   \n",
       "3  Mozilla/5.0 (Windows NT 6.3; WOW64; rv:39.0) G...   \n",
       "4  Mozilla/5.0 (Windows NT 6.3; WOW64; rv:39.0) G...   \n",
       "\n",
       "                    ssl_cipher ssl_protocol  \n",
       "0  ECDHE-RSA-AES128-GCM-SHA256      TLSv1.2  \n",
       "1  ECDHE-RSA-AES128-GCM-SHA256      TLSv1.2  \n",
       "2  ECDHE-RSA-AES128-GCM-SHA256      TLSv1.2  \n",
       "3  ECDHE-RSA-AES128-GCM-SHA256      TLSv1.2  \n",
       "4  ECDHE-RSA-AES128-GCM-SHA256      TLSv1.2  "
      ]
     },
     "execution_count": 6,
     "metadata": {},
     "output_type": "execute_result"
    }
   ],
   "source": [
    "data[\"prev_timestamp\"] = data[['client_ip', 'timestamp']].groupby('client_ip').transform(lambda x:x.shift(1))\n",
    "inactive_window = timedelta(seconds=10*60)\n",
    "data['next_session'] = ((data['timestamp'] - data['prev_timestamp']) >= inactive_window).astype(int)\n",
    "data['session'] = data.groupby(\"client_ip\")['next_session'].cumsum()\n",
    "data['session_id'] = data[\"client_ip\"].str.cat(data[\"session\"].astype(str), sep='_')\n",
    "cols_order = ['timestamp', 'elb', 'client:port', 'client_ip', 'session', 'session_id',\n",
    "              'backend:port', 'request_processing_time', 'backend_processing_time',\n",
    "              'response_processing_time', 'elb_status_code', 'backend_status_code',\n",
    "              'received_bytes', 'sent_bytes', 'request', 'url', 'user_agent', 'ssl_cipher', 'ssl_protocol']\n",
    "# data.to_feather(OUTPUT_PATH/\"Sessionized_Weblog.feather\")\n",
    "data[cols_order].head(5)"
   ]
  },
  {
   "cell_type": "code",
   "execution_count": 7,
   "metadata": {},
   "outputs": [],
   "source": [
    "# Drop user sessions with only first session and one record in the data\n",
    "user_counts = data[\"session_id\"].value_counts().reset_index().rename(columns={'index': 'session_id', 'session_id': 'count'})\n",
    "single_record_sessions = user_counts.loc[user_counts[\"count\"] == 1, \"session_id\"].values\n",
    "data = data[~((data[\"session_id\"].isin(single_record_sessions)) & (data[\"session\"] == 0))]"
   ]
  },
  {
   "cell_type": "markdown",
   "metadata": {},
   "source": [
    "### 2. Determine the average session time"
   ]
  },
  {
   "cell_type": "code",
   "execution_count": 8,
   "metadata": {},
   "outputs": [
    {
     "name": "stdout",
     "output_type": "stream",
     "text": [
      "Average session time across all users: 90.59159746997969 seconds\n"
     ]
    }
   ],
   "source": [
    "session_length_data = (data[['session_id', 'timestamp']].groupby('session_id')\n",
    "                                                        .agg({'timestamp': [('session_length', lambda x: np.ptp(x).seconds)]}))\n",
    "session_length_data.columns = session_length_data.columns.droplevel()\n",
    "session_length_data.reset_index(drop=False, inplace=True)\n",
    "session_length_data[\"client_ip\"], session_length_data[\"session\"] = session_length_data[\"session_id\"].str.split(\"_\").str\n",
    "session_length_data[\"session\"] = session_length_data[\"session\"].astype(int)\n",
    "print(f\"Average session time across all users: {session_length_data['session_length'].mean()} seconds\")"
   ]
  },
  {
   "cell_type": "markdown",
   "metadata": {},
   "source": [
    "### 3. Determine unique URL visits per session. To clarify, count a hit to a unique URL only once per session."
   ]
  },
  {
   "cell_type": "code",
   "execution_count": 9,
   "metadata": {},
   "outputs": [
    {
     "data": {
      "text/html": [
       "<div>\n",
       "<style scoped>\n",
       "    .dataframe tbody tr th:only-of-type {\n",
       "        vertical-align: middle;\n",
       "    }\n",
       "\n",
       "    .dataframe tbody tr th {\n",
       "        vertical-align: top;\n",
       "    }\n",
       "\n",
       "    .dataframe thead th {\n",
       "        text-align: right;\n",
       "    }\n",
       "</style>\n",
       "<table border=\"1\" class=\"dataframe\">\n",
       "  <thead>\n",
       "    <tr style=\"text-align: right;\">\n",
       "      <th></th>\n",
       "      <th>session_id</th>\n",
       "      <th>unique_url_count</th>\n",
       "    </tr>\n",
       "  </thead>\n",
       "  <tbody>\n",
       "    <tr>\n",
       "      <th>0</th>\n",
       "      <td>1.186.101.79_0</td>\n",
       "      <td>9</td>\n",
       "    </tr>\n",
       "    <tr>\n",
       "      <th>1</th>\n",
       "      <td>1.186.101.79_1</td>\n",
       "      <td>8</td>\n",
       "    </tr>\n",
       "    <tr>\n",
       "      <th>2</th>\n",
       "      <td>1.186.103.240_0</td>\n",
       "      <td>5</td>\n",
       "    </tr>\n",
       "    <tr>\n",
       "      <th>3</th>\n",
       "      <td>1.186.103.78_0</td>\n",
       "      <td>4</td>\n",
       "    </tr>\n",
       "    <tr>\n",
       "      <th>4</th>\n",
       "      <td>1.186.108.213_0</td>\n",
       "      <td>2</td>\n",
       "    </tr>\n",
       "    <tr>\n",
       "      <th>5</th>\n",
       "      <td>1.186.108.230_0</td>\n",
       "      <td>5</td>\n",
       "    </tr>\n",
       "    <tr>\n",
       "      <th>6</th>\n",
       "      <td>1.186.108.242_0</td>\n",
       "      <td>3</td>\n",
       "    </tr>\n",
       "    <tr>\n",
       "      <th>7</th>\n",
       "      <td>1.186.108.28_0</td>\n",
       "      <td>80</td>\n",
       "    </tr>\n",
       "    <tr>\n",
       "      <th>8</th>\n",
       "      <td>1.186.108.29_0</td>\n",
       "      <td>3</td>\n",
       "    </tr>\n",
       "    <tr>\n",
       "      <th>9</th>\n",
       "      <td>1.186.108.79_0</td>\n",
       "      <td>3</td>\n",
       "    </tr>\n",
       "  </tbody>\n",
       "</table>\n",
       "</div>"
      ],
      "text/plain": [
       "        session_id  unique_url_count\n",
       "0   1.186.101.79_0                 9\n",
       "1   1.186.101.79_1                 8\n",
       "2  1.186.103.240_0                 5\n",
       "3   1.186.103.78_0                 4\n",
       "4  1.186.108.213_0                 2\n",
       "5  1.186.108.230_0                 5\n",
       "6  1.186.108.242_0                 3\n",
       "7   1.186.108.28_0                80\n",
       "8   1.186.108.29_0                 3\n",
       "9   1.186.108.79_0                 3"
      ]
     },
     "execution_count": 9,
     "metadata": {},
     "output_type": "execute_result"
    }
   ],
   "source": [
    "url_count_data = (data[['session_id', 'url']].groupby('session_id')\n",
    "                                             .agg({'url': [('unique_url_count', lambda x: x.nunique())]}))\n",
    "url_count_data.columns = url_count_data.columns.droplevel()\n",
    "url_count_data.reset_index(drop=False, inplace=True)\n",
    "# url_count_data.to_feather(OUTPUT_PATH/\"URL_count_per_session.feather\")\n",
    "url_count_data.head(10)"
   ]
  },
  {
   "cell_type": "markdown",
   "metadata": {},
   "source": [
    "### 4. Find the most engaged users, ie the IPs with the longest session times"
   ]
  },
  {
   "cell_type": "code",
   "execution_count": 10,
   "metadata": {},
   "outputs": [
    {
     "data": {
      "text/html": [
       "<div>\n",
       "<style scoped>\n",
       "    .dataframe tbody tr th:only-of-type {\n",
       "        vertical-align: middle;\n",
       "    }\n",
       "\n",
       "    .dataframe tbody tr th {\n",
       "        vertical-align: top;\n",
       "    }\n",
       "\n",
       "    .dataframe thead th {\n",
       "        text-align: right;\n",
       "    }\n",
       "</style>\n",
       "<table border=\"1\" class=\"dataframe\">\n",
       "  <thead>\n",
       "    <tr style=\"text-align: right;\">\n",
       "      <th></th>\n",
       "      <th>client_ip</th>\n",
       "      <th>average_session_length</th>\n",
       "      <th>number_of_sessions</th>\n",
       "    </tr>\n",
       "  </thead>\n",
       "  <tbody>\n",
       "    <tr>\n",
       "      <th>51488</th>\n",
       "      <td>182.66.36.72</td>\n",
       "      <td>1162.0</td>\n",
       "      <td>1</td>\n",
       "    </tr>\n",
       "    <tr>\n",
       "      <th>65912</th>\n",
       "      <td>49.202.59.215</td>\n",
       "      <td>1157.0</td>\n",
       "      <td>1</td>\n",
       "    </tr>\n",
       "    <tr>\n",
       "      <th>35821</th>\n",
       "      <td>122.160.158.81</td>\n",
       "      <td>1145.0</td>\n",
       "      <td>1</td>\n",
       "    </tr>\n",
       "    <tr>\n",
       "      <th>70541</th>\n",
       "      <td>59.91.249.99</td>\n",
       "      <td>1141.0</td>\n",
       "      <td>1</td>\n",
       "    </tr>\n",
       "    <tr>\n",
       "      <th>72316</th>\n",
       "      <td>61.8.146.66</td>\n",
       "      <td>1139.0</td>\n",
       "      <td>1</td>\n",
       "    </tr>\n",
       "    <tr>\n",
       "      <th>50137</th>\n",
       "      <td>180.215.72.113</td>\n",
       "      <td>1139.0</td>\n",
       "      <td>1</td>\n",
       "    </tr>\n",
       "    <tr>\n",
       "      <th>71613</th>\n",
       "      <td>60.254.126.213</td>\n",
       "      <td>1134.0</td>\n",
       "      <td>1</td>\n",
       "    </tr>\n",
       "    <tr>\n",
       "      <th>1150</th>\n",
       "      <td>1.23.30.226</td>\n",
       "      <td>1134.0</td>\n",
       "      <td>1</td>\n",
       "    </tr>\n",
       "    <tr>\n",
       "      <th>26510</th>\n",
       "      <td>117.203.81.246</td>\n",
       "      <td>1130.0</td>\n",
       "      <td>1</td>\n",
       "    </tr>\n",
       "    <tr>\n",
       "      <th>17647</th>\n",
       "      <td>112.79.36.86</td>\n",
       "      <td>1129.0</td>\n",
       "      <td>1</td>\n",
       "    </tr>\n",
       "  </tbody>\n",
       "</table>\n",
       "</div>"
      ],
      "text/plain": [
       "            client_ip  average_session_length  number_of_sessions\n",
       "51488    182.66.36.72                  1162.0                   1\n",
       "65912   49.202.59.215                  1157.0                   1\n",
       "35821  122.160.158.81                  1145.0                   1\n",
       "70541    59.91.249.99                  1141.0                   1\n",
       "72316     61.8.146.66                  1139.0                   1\n",
       "50137  180.215.72.113                  1139.0                   1\n",
       "71613  60.254.126.213                  1134.0                   1\n",
       "1150      1.23.30.226                  1134.0                   1\n",
       "26510  117.203.81.246                  1130.0                   1\n",
       "17647    112.79.36.86                  1129.0                   1"
      ]
     },
     "execution_count": 10,
     "metadata": {},
     "output_type": "execute_result"
    }
   ],
   "source": [
    "ip_data = (session_length_data.groupby('client_ip')['session_length'].agg([('average_session_length', np.mean),\n",
    "                                                                           ('number_of_sessions', 'count')])\n",
    "                                                                     .reset_index()\n",
    "                                                                     .sort_values('average_session_length', ascending=False))\n",
    "n = 100 # To get top 100 most engaged users\n",
    "top_n_users = ip_data.iloc[:n]\n",
    "# top_n_users.to_parquet(OUTPUT_PATH/\"Top_n_users.par\")\n",
    "top_n_users.head(10)"
   ]
  },
  {
   "cell_type": "markdown",
   "metadata": {},
   "source": [
    "## Part-2"
   ]
  },
  {
   "cell_type": "markdown",
   "metadata": {},
   "source": [
    "### 1. Predict the expected load (requests/second) in the next minute"
   ]
  },
  {
   "cell_type": "code",
   "execution_count": 11,
   "metadata": {},
   "outputs": [
    {
     "data": {
      "text/html": [
       "<div>\n",
       "<style scoped>\n",
       "    .dataframe tbody tr th:only-of-type {\n",
       "        vertical-align: middle;\n",
       "    }\n",
       "\n",
       "    .dataframe tbody tr th {\n",
       "        vertical-align: top;\n",
       "    }\n",
       "\n",
       "    .dataframe thead th {\n",
       "        text-align: right;\n",
       "    }\n",
       "</style>\n",
       "<table border=\"1\" class=\"dataframe\">\n",
       "  <thead>\n",
       "    <tr style=\"text-align: right;\">\n",
       "      <th></th>\n",
       "      <th>Time</th>\n",
       "      <th>Load</th>\n",
       "      <th>Prev_sent_bytes</th>\n",
       "      <th>Prev_received_bytes</th>\n",
       "      <th>Prev_response_processing_time</th>\n",
       "      <th>Prev_sessions_active</th>\n",
       "      <th>Prev_Load</th>\n",
       "      <th>Minute</th>\n",
       "    </tr>\n",
       "  </thead>\n",
       "  <tbody>\n",
       "    <tr>\n",
       "      <th>0</th>\n",
       "      <td>2015-07-22 02:40:00</td>\n",
       "      <td>75.366667</td>\n",
       "      <td>0.0</td>\n",
       "      <td>0.0</td>\n",
       "      <td>0.000000</td>\n",
       "      <td>0.0</td>\n",
       "      <td>0.000000</td>\n",
       "      <td>40</td>\n",
       "    </tr>\n",
       "    <tr>\n",
       "      <th>1</th>\n",
       "      <td>2015-07-22 02:41:00</td>\n",
       "      <td>111.200000</td>\n",
       "      <td>21211390.0</td>\n",
       "      <td>88222.0</td>\n",
       "      <td>0.096623</td>\n",
       "      <td>598.0</td>\n",
       "      <td>75.366667</td>\n",
       "      <td>41</td>\n",
       "    </tr>\n",
       "    <tr>\n",
       "      <th>2</th>\n",
       "      <td>2015-07-22 02:42:00</td>\n",
       "      <td>90.816667</td>\n",
       "      <td>39794965.0</td>\n",
       "      <td>132595.0</td>\n",
       "      <td>0.137929</td>\n",
       "      <td>676.0</td>\n",
       "      <td>111.200000</td>\n",
       "      <td>42</td>\n",
       "    </tr>\n",
       "    <tr>\n",
       "      <th>3</th>\n",
       "      <td>2015-07-22 02:43:00</td>\n",
       "      <td>76.550000</td>\n",
       "      <td>24441018.0</td>\n",
       "      <td>109528.0</td>\n",
       "      <td>0.117509</td>\n",
       "      <td>650.0</td>\n",
       "      <td>90.816667</td>\n",
       "      <td>43</td>\n",
       "    </tr>\n",
       "    <tr>\n",
       "      <th>4</th>\n",
       "      <td>2015-07-22 02:44:00</td>\n",
       "      <td>74.833333</td>\n",
       "      <td>25659984.0</td>\n",
       "      <td>95128.0</td>\n",
       "      <td>0.097638</td>\n",
       "      <td>684.0</td>\n",
       "      <td>76.550000</td>\n",
       "      <td>44</td>\n",
       "    </tr>\n",
       "  </tbody>\n",
       "</table>\n",
       "</div>"
      ],
      "text/plain": [
       "                 Time        Load  Prev_sent_bytes  Prev_received_bytes  \\\n",
       "0 2015-07-22 02:40:00   75.366667              0.0                  0.0   \n",
       "1 2015-07-22 02:41:00  111.200000       21211390.0              88222.0   \n",
       "2 2015-07-22 02:42:00   90.816667       39794965.0             132595.0   \n",
       "3 2015-07-22 02:43:00   76.550000       24441018.0             109528.0   \n",
       "4 2015-07-22 02:44:00   74.833333       25659984.0              95128.0   \n",
       "\n",
       "   Prev_response_processing_time  Prev_sessions_active   Prev_Load  Minute  \n",
       "0                       0.000000                   0.0    0.000000      40  \n",
       "1                       0.096623                 598.0   75.366667      41  \n",
       "2                       0.137929                 676.0  111.200000      42  \n",
       "3                       0.117509                 650.0   90.816667      43  \n",
       "4                       0.097638                 684.0   76.550000      44  "
      ]
     },
     "execution_count": 11,
     "metadata": {},
     "output_type": "execute_result"
    }
   ],
   "source": [
    "load_data = data.set_index(\"timestamp\").resample(\"1Min\").agg({'elb': [('Load', lambda x: np.count_nonzero(x)/60)],\n",
    "                                                        'sent_bytes': [('sent_bytes', lambda x: x.astype(float).sum())],\n",
    "                                                        'received_bytes': [('received_bytes', lambda x: x.astype(float).sum())],\n",
    "                                                        'response_processing_time': [('response_processing_time', lambda x: pd.Series(x).replace({'-1': '0'}).astype(float).sum())],\n",
    "                                                        'session_id': [('sessions_active', lambda x: x.nunique())]}).reset_index(col_fill=\"Time\")\n",
    "load_data.columns = load_data.columns.droplevel()\n",
    "\n",
    "lag_cols = [\"sent_bytes\", \"received_bytes\", \"response_processing_time\", \"sessions_active\"]\n",
    "tmp = load_data[lag_cols+[\"Load\"]].shift(1)\n",
    "tmp.columns = [\"Prev_\" + col for col in lag_cols+[\"Load\"]]\n",
    "load_data = pd.concat((load_data.drop(lag_cols, axis=1), tmp), axis=1).fillna(0)\n",
    "load_data[\"Minute\"] = load_data[\"Time\"].dt.minute\n",
    "cols_for_model = np.setdiff1d(load_data.columns, [\"Time\", \"Load\"])\n",
    "load_data.head()"
   ]
  },
  {
   "cell_type": "markdown",
   "metadata": {},
   "source": [
    "### Random forest model on lag data for predicting expected load"
   ]
  },
  {
   "cell_type": "code",
   "execution_count": 12,
   "metadata": {},
   "outputs": [
    {
     "name": "stdout",
     "output_type": "stream",
     "text": [
      " Build data shape: (666, 8), Validation data shape: (222, 8) and Testing data shape: (223, 8)\n"
     ]
    }
   ],
   "source": [
    "# build:val:test = 60:20:20 Time based split\n",
    "train, test, y_train, y_test = train_test_split(load_data, load_data[\"Load\"], test_size=0.2, random_state=2018, shuffle=False)\n",
    "# train, test, y_train, y_test = train_test_split(load_data, np.log1p(load_data[\"Load\"]), test_size=0.2, random_state=2018, shuffle=False)\n",
    "build, val, y_build, y_val = train_test_split(train, y_train, test_size=0.25, random_state=2018, shuffle=False)\n",
    "print(f\" Build data shape: {build.shape}, Validation data shape: {val.shape} and Testing data shape: {test.shape}\")"
   ]
  },
  {
   "cell_type": "code",
   "execution_count": 13,
   "metadata": {},
   "outputs": [
    {
     "data": {
      "text/plain": [
       "RandomForestRegressor(bootstrap=True, criterion='mse', max_depth=None,\n",
       "           max_features='auto', max_leaf_nodes=None,\n",
       "           min_impurity_decrease=0.0, min_impurity_split=None,\n",
       "           min_samples_leaf=1, min_samples_split=2,\n",
       "           min_weight_fraction_leaf=0.0, n_estimators=100, n_jobs=4,\n",
       "           oob_score=False, random_state=2018, verbose=0, warm_start=False)"
      ]
     },
     "execution_count": 13,
     "metadata": {},
     "output_type": "execute_result"
    }
   ],
   "source": [
    "rf = RandomForestRegressor(n_estimators=100, n_jobs=4, random_state=2018)\n",
    "rf.fit(build[cols_for_model], y_build)"
   ]
  },
  {
   "cell_type": "code",
   "execution_count": 14,
   "metadata": {},
   "outputs": [
    {
     "name": "stdout",
     "output_type": "stream",
     "text": [
      "Validation RMSE: 35.99255565033318\n",
      "Test RMSE: 30.0611971239124\n"
     ]
    }
   ],
   "source": [
    "val_preds = rf.predict(val[cols_for_model])\n",
    "test_preds = rf.predict(test[cols_for_model])\n",
    "print(f\"Validation RMSE: {mean_squared_error(y_val, val_preds)**0.5}\")\n",
    "print(f\"Test RMSE: {mean_squared_error(y_test, test_preds)**0.5}\")"
   ]
  },
  {
   "cell_type": "code",
   "execution_count": 15,
   "metadata": {},
   "outputs": [
    {
     "data": {
      "text/plain": [
       "<matplotlib.legend.Legend at 0x7f2d77bf57b8>"
      ]
     },
     "execution_count": 15,
     "metadata": {},
     "output_type": "execute_result"
    },
    {
     "data": {
      "image/png": "[encoded data removed]",
      "text/plain": [
       "<Figure size 1440x576 with 1 Axes>"
      ]
     },
     "metadata": {},
     "output_type": "display_data"
    }
   ],
   "source": [
    "plt.figure(figsize=(20,8))\n",
    "plt.plot(load_data[[\"Time\", \"Load\"]].set_index(\"Time\"), label=\"Actual load\")\n",
    "plt.plot(pd.concat((val[\"Time\"].reset_index(drop=True), pd.Series(val_preds, name=\"Load\")), axis=1).set_index(\"Time\"), color=\"red\", label=\"Validation predictions\")\n",
    "plt.plot(pd.concat((test[\"Time\"].reset_index(drop=True), pd.Series(test_preds, name=\"Load\")), axis=1).set_index(\"Time\"), color=\"blue\", label=\"Test predictions\")\n",
    "# plt.plot(pd.concat((val[\"Time\"].reset_index(drop=True), pd.Series(np.expm1(reg_lgb.predict(val[cols_for_model])), name=\"Load\")), axis=1).set_index(\"Time\"), color=\"red\", label=\"Validation predictions\")\n",
    "# plt.plot(pd.concat((test[\"Time\"].reset_index(drop=True), pd.Series(np.expm1(reg_lgb.predict(test[cols_for_model])), name=\"Load\")), axis=1).set_index(\"Time\"), color=\"blue\", label=\"Test predictions\")\n",
    "plt.legend()"
   ]
  },
  {
   "cell_type": "markdown",
   "metadata": {},
   "source": [
    "### 2. Predict the session length for a given IP"
   ]
  },
  {
   "cell_type": "code",
   "execution_count": 16,
   "metadata": {},
   "outputs": [],
   "source": [
    "data_df = data.copy(deep=True)\n",
    "cols = [\"sent_bytes\", \"received_bytes\", \"response_processing_time\"]\n",
    "data_df[cols] = data_df[cols].astype(np.float)\n",
    "data_df[\"Device\"] = data_df[\"user_agent\"].str.contains(\"Mobile\").replace({False: \"Web\", True: \"Mobile\"})\n",
    "data_df[\"request_method\"] = data_df[\"request\"].str.split(\" \", expand=True)[0]"
   ]
  },
  {
   "cell_type": "code",
   "execution_count": 17,
   "metadata": {},
   "outputs": [],
   "source": [
    "device_data = (data_df[[\"session_id\", \"Device\"]].pivot_table(index=\"session_id\", \n",
    "                                                    columns=[\"Device\"], \n",
    "                                                    aggfunc=np.count_nonzero)\n",
    "                                                .reset_index().rename_axis(None, axis=1).fillna(0))\n",
    "session_details = data_df[[\"session_id\"]+cols].pivot_table(index=\"session_id\", values=cols).reset_index()"
   ]
  },
  {
   "cell_type": "markdown",
   "metadata": {},
   "source": [
    "#### Creating lag features based on session for each client"
   ]
  },
  {
   "cell_type": "code",
   "execution_count": 18,
   "metadata": {},
   "outputs": [
    {
     "data": {
      "text/html": [
       "<div>\n",
       "<style scoped>\n",
       "    .dataframe tbody tr th:only-of-type {\n",
       "        vertical-align: middle;\n",
       "    }\n",
       "\n",
       "    .dataframe tbody tr th {\n",
       "        vertical-align: top;\n",
       "    }\n",
       "\n",
       "    .dataframe thead th {\n",
       "        text-align: right;\n",
       "    }\n",
       "</style>\n",
       "<table border=\"1\" class=\"dataframe\">\n",
       "  <thead>\n",
       "    <tr style=\"text-align: right;\">\n",
       "      <th></th>\n",
       "      <th>session_id</th>\n",
       "      <th>session_length</th>\n",
       "      <th>client_ip</th>\n",
       "      <th>session</th>\n",
       "      <th>unique_url_count</th>\n",
       "      <th>Prev_Mobile</th>\n",
       "      <th>Prev_Web</th>\n",
       "      <th>Prev_received_bytes</th>\n",
       "      <th>Prev_response_processing_time</th>\n",
       "      <th>Prev_sent_bytes</th>\n",
       "      <th>Prev_session_length</th>\n",
       "      <th>Prev_unique_url_count</th>\n",
       "    </tr>\n",
       "  </thead>\n",
       "  <tbody>\n",
       "    <tr>\n",
       "      <th>0</th>\n",
       "      <td>1.186.101.79_0</td>\n",
       "      <td>146</td>\n",
       "      <td>1.186.101.79</td>\n",
       "      <td>0</td>\n",
       "      <td>9</td>\n",
       "      <td>NaN</td>\n",
       "      <td>NaN</td>\n",
       "      <td>NaN</td>\n",
       "      <td>NaN</td>\n",
       "      <td>NaN</td>\n",
       "      <td>NaN</td>\n",
       "      <td>NaN</td>\n",
       "    </tr>\n",
       "    <tr>\n",
       "      <th>1</th>\n",
       "      <td>1.186.101.79_1</td>\n",
       "      <td>229</td>\n",
       "      <td>1.186.101.79</td>\n",
       "      <td>1</td>\n",
       "      <td>8</td>\n",
       "      <td>0.0</td>\n",
       "      <td>38.0</td>\n",
       "      <td>83.105263</td>\n",
       "      <td>0.000021</td>\n",
       "      <td>2168.789474</td>\n",
       "      <td>146.0</td>\n",
       "      <td>9.0</td>\n",
       "    </tr>\n",
       "    <tr>\n",
       "      <th>2</th>\n",
       "      <td>1.186.103.240_0</td>\n",
       "      <td>11</td>\n",
       "      <td>1.186.103.240</td>\n",
       "      <td>0</td>\n",
       "      <td>5</td>\n",
       "      <td>NaN</td>\n",
       "      <td>NaN</td>\n",
       "      <td>NaN</td>\n",
       "      <td>NaN</td>\n",
       "      <td>NaN</td>\n",
       "      <td>NaN</td>\n",
       "      <td>NaN</td>\n",
       "    </tr>\n",
       "    <tr>\n",
       "      <th>3</th>\n",
       "      <td>1.186.103.78_0</td>\n",
       "      <td>9</td>\n",
       "      <td>1.186.103.78</td>\n",
       "      <td>0</td>\n",
       "      <td>4</td>\n",
       "      <td>NaN</td>\n",
       "      <td>NaN</td>\n",
       "      <td>NaN</td>\n",
       "      <td>NaN</td>\n",
       "      <td>NaN</td>\n",
       "      <td>NaN</td>\n",
       "      <td>NaN</td>\n",
       "    </tr>\n",
       "    <tr>\n",
       "      <th>4</th>\n",
       "      <td>1.186.108.213_0</td>\n",
       "      <td>112</td>\n",
       "      <td>1.186.108.213</td>\n",
       "      <td>0</td>\n",
       "      <td>2</td>\n",
       "      <td>NaN</td>\n",
       "      <td>NaN</td>\n",
       "      <td>NaN</td>\n",
       "      <td>NaN</td>\n",
       "      <td>NaN</td>\n",
       "      <td>NaN</td>\n",
       "      <td>NaN</td>\n",
       "    </tr>\n",
       "  </tbody>\n",
       "</table>\n",
       "</div>"
      ],
      "text/plain": [
       "        session_id  session_length      client_ip  session  unique_url_count  \\\n",
       "0   1.186.101.79_0             146   1.186.101.79        0                 9   \n",
       "1   1.186.101.79_1             229   1.186.101.79        1                 8   \n",
       "2  1.186.103.240_0              11  1.186.103.240        0                 5   \n",
       "3   1.186.103.78_0               9   1.186.103.78        0                 4   \n",
       "4  1.186.108.213_0             112  1.186.108.213        0                 2   \n",
       "\n",
       "   Prev_Mobile  Prev_Web  Prev_received_bytes  Prev_response_processing_time  \\\n",
       "0          NaN       NaN                  NaN                            NaN   \n",
       "1          0.0      38.0            83.105263                       0.000021   \n",
       "2          NaN       NaN                  NaN                            NaN   \n",
       "3          NaN       NaN                  NaN                            NaN   \n",
       "4          NaN       NaN                  NaN                            NaN   \n",
       "\n",
       "   Prev_sent_bytes  Prev_session_length  Prev_unique_url_count  \n",
       "0              NaN                  NaN                    NaN  \n",
       "1      2168.789474                146.0                    9.0  \n",
       "2              NaN                  NaN                    NaN  \n",
       "3              NaN                  NaN                    NaN  \n",
       "4              NaN                  NaN                    NaN  "
      ]
     },
     "execution_count": 18,
     "metadata": {},
     "output_type": "execute_result"
    }
   ],
   "source": [
    "lag_cols = [\"Mobile\", \"Web\", \"DELETE\", \"GET\", \"HEAD\", \"OPTIONS\", \"POST\", \"PUT\", \n",
    "            \"received_bytes\", \"response_processing_time\", \"sent_bytes\",\n",
    "            \"session_length\", \"unique_url_count\"]\n",
    "lag_cols = [\"Mobile\", \"Web\",\n",
    "            \"received_bytes\", \"response_processing_time\", \"sent_bytes\",\n",
    "            \"session_length\", \"unique_url_count\"]\n",
    "tmp_0 = (pd.merge(session_length_data, url_count_data, how='left', on='session_id')\n",
    "           .merge(device_data, on=\"session_id\", how='left')\n",
    "           .merge(session_details, on=\"session_id\", how='left'))\n",
    "\n",
    "tmp_1 = tmp_0.groupby(\"client_ip\")[lag_cols].transform(lambda x: x.shift(1)).rename(columns=dict(zip(lag_cols, [\"Prev_\"+col for col in lag_cols])))\n",
    "session_data = pd.concat((tmp_0.drop(np.setdiff1d(lag_cols, [\"session_length\", \"unique_url_count\"]), axis=1), \n",
    "                          tmp_1), axis=1)\n",
    "session_data.head()"
   ]
  },
  {
   "cell_type": "code",
   "execution_count": 19,
   "metadata": {},
   "outputs": [],
   "source": [
    "# Data is split based on session\n",
    "# First 5 sessions in train\n",
    "build = session_data[session_data[\"session\"] < 6].fillna(0)\n",
    "val = session_data[session_data[\"session\"] == 6].fillna(0)\n",
    "test = session_data[session_data[\"session\"] > 6].fillna(0)"
   ]
  },
  {
   "cell_type": "code",
   "execution_count": 20,
   "metadata": {},
   "outputs": [],
   "source": [
    "cols_for_model = ['Prev_Mobile', 'Prev_Web',\n",
    "                   'Prev_received_bytes', 'Prev_response_processing_time',\n",
    "                   'Prev_sent_bytes', 'Prev_session_length', 'Prev_unique_url_count']"
   ]
  },
  {
   "cell_type": "code",
   "execution_count": 21,
   "metadata": {},
   "outputs": [
    {
     "data": {
      "text/plain": [
       "RandomForestRegressor(bootstrap=True, criterion='mse', max_depth=None,\n",
       "           max_features='auto', max_leaf_nodes=None,\n",
       "           min_impurity_decrease=0.0, min_impurity_split=None,\n",
       "           min_samples_leaf=1, min_samples_split=2,\n",
       "           min_weight_fraction_leaf=0.0, n_estimators=500, n_jobs=4,\n",
       "           oob_score=False, random_state=2018, verbose=0, warm_start=False)"
      ]
     },
     "execution_count": 21,
     "metadata": {},
     "output_type": "execute_result"
    }
   ],
   "source": [
    "rf_session_length = RandomForestRegressor(n_estimators=500, n_jobs=4, random_state=2018)\n",
    "rf_session_length.fit(build[cols_for_model], np.log1p(build[\"session_length\"]))"
   ]
  },
  {
   "cell_type": "code",
   "execution_count": 22,
   "metadata": {},
   "outputs": [
    {
     "name": "stdout",
     "output_type": "stream",
     "text": [
      "Validation RMSE: 261.5820117120785\n",
      "Test RMSE: 153.81379389121065\n"
     ]
    }
   ],
   "source": [
    "val_session_length_preds = rf_session_length.predict(val[cols_for_model])\n",
    "test_session_length_preds = rf_session_length.predict(test[cols_for_model])\n",
    "print(f\"Validation RMSE: {mean_squared_error(val['session_length'], np.expm1(val_session_length_preds))**0.5}\")\n",
    "print(f\"Test RMSE: {mean_squared_error(test['session_length'], np.expm1(test_session_length_preds))**0.5}\")"
   ]
  },
  {
   "cell_type": "markdown",
   "metadata": {},
   "source": [
    "### 3. Predict the number of unique URL visits by a given IP"
   ]
  },
  {
   "cell_type": "code",
   "execution_count": 23,
   "metadata": {},
   "outputs": [
    {
     "data": {
      "text/plain": [
       "RandomForestRegressor(bootstrap=True, criterion='mse', max_depth=None,\n",
       "           max_features='auto', max_leaf_nodes=None,\n",
       "           min_impurity_decrease=0.0, min_impurity_split=None,\n",
       "           min_samples_leaf=1, min_samples_split=2,\n",
       "           min_weight_fraction_leaf=0.0, n_estimators=500, n_jobs=4,\n",
       "           oob_score=False, random_state=2018, verbose=0, warm_start=False)"
      ]
     },
     "execution_count": 23,
     "metadata": {},
     "output_type": "execute_result"
    }
   ],
   "source": [
    "rf_url_count = RandomForestRegressor(n_estimators=500, n_jobs=4, random_state=2018)\n",
    "rf_url_count.fit(build[cols_for_model], build[\"unique_url_count\"])"
   ]
  },
  {
   "cell_type": "code",
   "execution_count": 24,
   "metadata": {},
   "outputs": [
    {
     "name": "stdout",
     "output_type": "stream",
     "text": [
      "Validation RMSE: 470.2235179151198\n",
      "Test RMSE: 270.2548560698397\n"
     ]
    }
   ],
   "source": [
    "val_url_count_preds = rf_url_count.predict(val[cols_for_model])\n",
    "test_url_count_preds = rf_url_count.predict(test[cols_for_model])\n",
    "print(f\"Validation RMSE: {mean_squared_error(val['unique_url_count'], val_url_count_preds)**0.5}\")\n",
    "print(f\"Test RMSE: {mean_squared_error(test['unique_url_count'], test_url_count_preds)**0.5}\")"
   ]
  },
  {
   "cell_type": "code",
   "execution_count": 25,
   "metadata": {},
   "outputs": [],
   "source": [
    "test_df = test[[\"client_ip\", \"session\", \"session_length\", \"unique_url_count\"]].copy()\n",
    "test_df[\"session_length_prediction\"] = np.expm1(test_session_length_preds)\n",
    "test_df[\"unique_url_count_prediction\"] = test_url_count_preds\n",
    "# test_df.to_parquet(OUTPUT_PATH/\"session_predictions.parquet\")"
   ]
  },
  {
   "cell_type": "code",
   "execution_count": null,
   "metadata": {},
   "outputs": [],
   "source": []
  }
 ],
 "metadata": {
  "kernelspec": {
   "display_name": "Python 3",
   "language": "python",
   "name": "python3"
  },
  "language_info": {
   "codemirror_mode": {
    "name": "ipython",
    "version": 3
   },
   "file_extension": ".py",
   "mimetype": "text/x-python",
   "name": "python",
   "nbconvert_exporter": "python",
   "pygments_lexer": "ipython3",
   "version": "3.6.5"
  }
 },
 "nbformat": 4,
 "nbformat_minor": 2
}
